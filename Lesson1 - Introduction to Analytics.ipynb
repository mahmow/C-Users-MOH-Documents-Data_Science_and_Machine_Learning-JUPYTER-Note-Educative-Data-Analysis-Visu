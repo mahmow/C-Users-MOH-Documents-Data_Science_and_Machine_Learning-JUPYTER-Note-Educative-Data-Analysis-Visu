{
 "cells": [
  {
   "cell_type": "markdown",
   "id": "transsexual-scholarship",
   "metadata": {},
   "source": [
    "# Introduction to Analytics\n",
    "This lesson introduces analytics, its core functions, and why it is important.\n",
    "\n",
    "We'll cover the following\n",
    "\n",
    "1. What is analytics?\n",
    "2. The analytics process\n",
    "3. Importance of analytics\n",
    "\n",
    "## What is analytics? \n",
    "Analytics, at its core, is the process of taking raw data and extracting actionable insights.\n",
    "\n",
    "For example, a raw data set would be the historical stock market prices and financials for all of the companies in the S&P 500. By itself, that raw data isn’t that useful. With analytical skills, though, you can start to extract understanding from your data. Perhaps, you wish to discover the average market return by year or identify any stocks with outlier performances. Analytics is the process by which you were to understand your data. Moreover, that understanding will allow you to make data-driven decisions.\n",
    "\n",
    "## The analytics process \n",
    "I like to break down the analytics process into four distinct steps:\n",
    "\n",
    "- Processing the data\n",
    "- Describing the data\n",
    "- Cleaning the data\n",
    "- Visualizing the data\n",
    "\n",
    "Typically, when starting a new analytics project, you are given a bunch of data and a question you want to answer. First, you need to read those data into a system for processing. Once loaded, you will typically start to calculate various statistics and counts to describe the data. This process tends to reveal potential issues and will require you to clean the data. At that point, you will likely go back and do a deeper dive into describing and understanding your data. To augment this process, you will then start to visualize the data.\n",
    "\n",
    "## Importance of analytics \n",
    "The goal of this entire process is to start to peel back the layers of your data to try and answer your question or questions of interest. That is the power of analytics. It allows you to start with no knowledge and a bunch of data to data-driven understanding.\n",
    "\n",
    "This course will introduce you to the key concepts of each step in the processes using the Python programming language. By the end of the course, you will have the ability to extract knowledge and answers from data.\n",
    "\n"
   ]
  },
  {
   "cell_type": "code",
   "execution_count": null,
   "id": "1114f708",
   "metadata": {},
   "outputs": [],
   "source": []
  }
 ],
 "metadata": {
  "kernelspec": {
   "display_name": "Python 3 (ipykernel)",
   "language": "python",
   "name": "python3"
  },
  "language_info": {
   "codemirror_mode": {
    "name": "ipython",
    "version": 3
   },
   "file_extension": ".py",
   "mimetype": "text/x-python",
   "name": "python",
   "nbconvert_exporter": "python",
   "pygments_lexer": "ipython3",
   "version": "3.9.7"
  }
 },
 "nbformat": 4,
 "nbformat_minor": 5
}
