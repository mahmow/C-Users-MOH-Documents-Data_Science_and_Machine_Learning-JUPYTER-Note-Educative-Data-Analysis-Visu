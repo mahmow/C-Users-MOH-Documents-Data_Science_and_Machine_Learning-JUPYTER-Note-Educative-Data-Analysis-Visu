{
 "cells": [
  {
   "cell_type": "markdown",
   "id": "a34b3909",
   "metadata": {},
   "source": [
    "# Module Overview\n",
    "Get started with the basics of analytics in Python, the language of choice for data science using Python data structures, descriptive statistics, and much more.\n",
    "\n",
    "Contents (Module)\n",
    "1. What is Analytics\n",
    "    * Introduction to Analytics\n",
    "    * Analytics in Python\n",
    "\n",
    "2. Python Basics for Analytics\n",
    "    * Getting Started\n",
    "    * Data Structures\n",
    "    * Control Flow and Built-in Functions\n",
    "    * Numpy an External Library\n",
    "    * Scipy an External Library\n",
    "    * Exercise: Using Numpy and Scipy\n",
    "    * Solution Review: Using Numpy and Scipy\n",
    "    * Comma Separated Files\n",
    "    * JSON Files\n",
    "    * Raw Files\n",
    "    * Exercise: Reading Auto MPG Dataset\n",
    "    * Solution Review: Reading Auto MPG Dataset\n",
    "\n",
    "3. Describing Data\n",
    "    * Statistics and Counts\n",
    "    * Reshaping the Data\n",
    "    * Exercise: Group By Aggregations\n",
    "    * Solution Review: Group By Aggregations\n",
    "\n",
    "4. Cleaning Data\n",
    "    * Missing Data\n",
    "    * Outliers\n",
    "    * Scaling\n",
    "    * Categorical Data\n",
    "    * Exercise: Cleaning Auto MPG Dataset\n",
    "    * Solution Review: Cleaning Auto MPG Dataset\n",
    "\n",
    "5. Visualizing Data\n",
    "    * Introduction to Visualization\n",
    "    * Visualization with Scatter Plots\n",
    "    * Visualization with Bar Plots\n",
    "    * Visualization with Distributions\n",
    "    * Visualization with Line Graphs\n",
    "    * Visualization with Heat Maps\n",
    "    * Visualization with Multi-Plot Grids\n",
    "    * Exercise: Visualizing Auto MPG Dataset\n",
    "    * Solution Review: Visualizing Auto MPG Dataset\n",
    "    * Test Yourself"
   ]
  },
  {
   "cell_type": "code",
   "execution_count": null,
   "id": "2aa14661",
   "metadata": {},
   "outputs": [],
   "source": []
  }
 ],
 "metadata": {
  "kernelspec": {
   "display_name": "Python 3 (ipykernel)",
   "language": "python",
   "name": "python3"
  },
  "language_info": {
   "codemirror_mode": {
    "name": "ipython",
    "version": 3
   },
   "file_extension": ".py",
   "mimetype": "text/x-python",
   "name": "python",
   "nbconvert_exporter": "python",
   "pygments_lexer": "ipython3",
   "version": "3.9.7"
  }
 },
 "nbformat": 4,
 "nbformat_minor": 5
}
